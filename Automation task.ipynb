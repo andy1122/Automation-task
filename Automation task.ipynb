{
  "cells": [
    {
      "metadata": {
        "_uuid": "79bc87ae8fc6ccc6d8acf058d6d90e1647af382e"
      },
      "cell_type": "markdown",
      "source": "# Assignment 1: (Role : Automation)\n* Read the csv file from the link:\n* http://bit.ly/epo_automation_csv_file\n* The fields are separated usig '$' delimeter\n* Get all the unique mail addresses from the csv\n* Store the last date of conversation (Different date format is kept in few of the rows, avoid those rows)\n* And write a function to determine how many days has elapsed from the date\n* Have an array which contains values like \"OpenCV\", \"Python\", and write a function that would determine whether any of the words from the array is present in the content, if it is present then that word will be stored in another column"
    },
    {
      "metadata": {
        "_uuid": "8f2839f25d086af736a60e9eeb907d3b93b6e0e5",
        "_cell_guid": "b1076dfc-b9ad-4769-8c92-a6c4dae69d19",
        "trusted": true
      },
      "cell_type": "code",
      "source": "# This Python 3 environment comes with many helpful analytics libraries installed\n# It is defined by the kaggle/python docker image: https://github.com/kaggle/docker-python\n# For example, here's several helpful packages to load in \n\nimport numpy as np # linear algebra\nimport pandas as pd # data processing, CSV file I/O (e.g. pd.read_csv)\nimport matplotlib.pyplot as plt\nimport seaborn as sns\n#import \n# Input data files are available in the \"../input/\" directory.\n# For example, running this (by clicking run or pressing Shift+Enter) will list the files in the input directory\n\nimport os\nprint(os.listdir(\"../input\"))\n\n# Any results you write to the current directory are saved as output.",
      "execution_count": 1,
      "outputs": [
        {
          "output_type": "stream",
          "text": "['Automatic email content store.csv']\n",
          "name": "stdout"
        }
      ]
    },
    {
      "metadata": {
        "_cell_guid": "79c7e3d0-c299-4dcb-8224-4455121ee9b0",
        "_uuid": "d629ff2d2480ee46fbb7e2d37f6b5fab8052498a",
        "trusted": true
      },
      "cell_type": "code",
      "source": "email = pd.read_csv('../input/Automatic email content store.csv')\nemail.head()",
      "execution_count": 2,
      "outputs": [
        {
          "output_type": "execute_result",
          "execution_count": 2,
          "data": {
            "text/plain": "                                        Date$to $raw\n0  30/09/17$shubhi.prakash03@gmail.com$will be do...\n1  30/09/17$exampreparationonline@gmail.com$will ...\n2  30/09/17$exampreparationonline@gmail.com$will ...\n3  30/09/17$shubhi.prakash03@gmail.com$will be do...\n4  30/09/17$shubhi.prakash03@gmail.com$will be do...",
            "text/html": "<div>\n<style scoped>\n    .dataframe tbody tr th:only-of-type {\n        vertical-align: middle;\n    }\n\n    .dataframe tbody tr th {\n        vertical-align: top;\n    }\n\n    .dataframe thead th {\n        text-align: right;\n    }\n</style>\n<table border=\"1\" class=\"dataframe\">\n  <thead>\n    <tr style=\"text-align: right;\">\n      <th></th>\n      <th>Date$to $raw</th>\n    </tr>\n  </thead>\n  <tbody>\n    <tr>\n      <th>0</th>\n      <td>30/09/17$shubhi.prakash03@gmail.com$will be do...</td>\n    </tr>\n    <tr>\n      <th>1</th>\n      <td>30/09/17$exampreparationonline@gmail.com$will ...</td>\n    </tr>\n    <tr>\n      <th>2</th>\n      <td>30/09/17$exampreparationonline@gmail.com$will ...</td>\n    </tr>\n    <tr>\n      <th>3</th>\n      <td>30/09/17$shubhi.prakash03@gmail.com$will be do...</td>\n    </tr>\n    <tr>\n      <th>4</th>\n      <td>30/09/17$shubhi.prakash03@gmail.com$will be do...</td>\n    </tr>\n  </tbody>\n</table>\n</div>"
          },
          "metadata": {}
        }
      ]
    },
    {
      "metadata": {
        "trusted": true,
        "_uuid": "44aa2660040ae5e664fdecb697cf3117177b3087"
      },
      "cell_type": "code",
      "source": "email.columns  ## onlu onme column",
      "execution_count": 3,
      "outputs": [
        {
          "output_type": "execute_result",
          "execution_count": 3,
          "data": {
            "text/plain": "Index(['Date$to $raw'], dtype='object')"
          },
          "metadata": {}
        }
      ]
    },
    {
      "metadata": {
        "trusted": true,
        "_uuid": "3c287958e4c22bc28ae239e68bb6c5c1001e86c3"
      },
      "cell_type": "code",
      "source": "sample = email.head(1)\nsample",
      "execution_count": 5,
      "outputs": [
        {
          "output_type": "execute_result",
          "execution_count": 5,
          "data": {
            "text/plain": "                                        Date$to $raw\n0  30/09/17$shubhi.prakash03@gmail.com$will be do...",
            "text/html": "<div>\n<style scoped>\n    .dataframe tbody tr th:only-of-type {\n        vertical-align: middle;\n    }\n\n    .dataframe tbody tr th {\n        vertical-align: top;\n    }\n\n    .dataframe thead th {\n        text-align: right;\n    }\n</style>\n<table border=\"1\" class=\"dataframe\">\n  <thead>\n    <tr style=\"text-align: right;\">\n      <th></th>\n      <th>Date$to $raw</th>\n    </tr>\n  </thead>\n  <tbody>\n    <tr>\n      <th>0</th>\n      <td>30/09/17$shubhi.prakash03@gmail.com$will be do...</td>\n    </tr>\n  </tbody>\n</table>\n</div>"
          },
          "metadata": {}
        }
      ]
    },
    {
      "metadata": {
        "trusted": true,
        "_uuid": "8e3857fb58232e62479e7fe55af5100fa091117d"
      },
      "cell_type": "code",
      "source": "#e = sample.split(' ')\n# pandas has str method for the series so we canb make the split  on thre series \nemail['Date$to $raw']",
      "execution_count": 6,
      "outputs": [
        {
          "output_type": "execute_result",
          "execution_count": 6,
          "data": {
            "text/plain": "0     30/09/17$shubhi.prakash03@gmail.com$will be do...\n1     30/09/17$exampreparationonline@gmail.com$will ...\n2     30/09/17$exampreparationonline@gmail.com$will ...\n3     30/09/17$shubhi.prakash03@gmail.com$will be do...\n4     30/09/17$shubhi.prakash03@gmail.com$will be do...\n5     30/09/17$exampreparationonline@gmail.com$try t...\n6     30/09/17$shubhi.prakash03@gmail.com$try to sub...\n7     30/09/17$nidhisaini05@gmail.com$try to submit ...\n8     30/09/17$chowdhuryshaif@rediffmail.com$try to ...\n9     30/09/17$chowdhuryshaif@rediffmail.com$try to ...\n10    30/09/17$chowdhuryshaif@rediffmail.com$try to ...\n11    30/09/17$chowdhuryshaif@rediffmail.com$try to ...\n12    30/09/17$chowdhuryshaif@rediffmail.com$can u t...\n13    30/09/17$chowdhuryshaif@rediffmail.com$can u t...\n14    30/09/17$chowdhuryshaif@rediffmail.com$can u t...\n15    01/10/17$nidhisaini05@gmail.com$can u tell me ...\n16    01/10/17$nidhisaini05@gmail.com$can u tell me ...\n17    01/10/17$abhishekguragol@gmail.com$can u tell ...\n18    01/10/17$exampreparationonline@gmail.com$can u...\n19    01/10/17$exampreparationonline@gmail.com$can u...\n20    01/10/17$exampreparationonline@gmail.com$can u...\n21    01/10/17$sonuyannam@gmail.com$can u tell me th...\n22    1 Oct 2017 19:25:52 -0000$exampreparationonlin...\n23    02/10/17$exampreparationonline@gmail.com$can u...\n24    02/10/17$chowdhuryshaif@rediffmail.com$can u t...\n25    02/10/17$chowdhuryshaif@rediffmail.com$can u t...\n26    02/10/17$chowdhuryshaif@rediffmail.com$can u t...\n27    02/10/17$chowdhuryshaif@rediffmail.com$can u t...\n28    02/10/17$chowdhuryshaif@rediffmail.com$can u t...\n29    02/10/17$chowdhuryshaif@rediffmail.com$can u t...\n30    02/10/17$chowdhuryshaif@rediffmail.com$can u t...\n31    02/10/17$chowdhuryshaif@rediffmail.com$can u t...\n32    02/10/17$chowdhuryshaif@rediffmail.com$can u t...\n33    02/10/17$nidhisaini05@gmail.com$can u tell me ...\n34    02/10/17$exampreparationonline@gmail.com$when ...\n35    02/10/17$chowdhuryshaif@rediffmail.com$when is...\n36    03/10/17$exampreparationonline@gmail.com$when ...\n37    03/10/17$sachinsn231@gmail.com$when is the dea...\n38    03/10/17$exampreparationonline@gmail.com$when ...\n39    03/10/17$sachinsn231@gmail.com$when is the dea...\n40    03/10/17$sachinsn231@gmail.com$when is the dea...\n41    03/10/17$sachinsn231@gmail.com$when is the dea...\n42    03/10/17$limithakeerthi@gmail.com$when is the ...\n43    03/10/17$ramthakkar07@gmail.com$when is the de...\n44    03/10/17$pavithramurugan22@gmail.com$when is t...\n45    04/10/17$saha.swapankumar1@gmail.com$when is t...\nName: Date$to $raw, dtype: object"
          },
          "metadata": {}
        }
      ]
    },
    {
      "metadata": {
        "trusted": true,
        "_uuid": "10c96e27ab5e3140525038a33b7bbb9e7e334485"
      },
      "cell_type": "code",
      "source": "e = email['Date$to $raw'].str.split('$')\ne",
      "execution_count": 7,
      "outputs": [
        {
          "output_type": "execute_result",
          "execution_count": 7,
          "data": {
            "text/plain": "0     [30/09/17, shubhi.prakash03@gmail.com, will be...\n1     [30/09/17, exampreparationonline@gmail.com, wi...\n2     [30/09/17, exampreparationonline@gmail.com, wi...\n3     [30/09/17, shubhi.prakash03@gmail.com, will be...\n4     [30/09/17, shubhi.prakash03@gmail.com, will be...\n5     [30/09/17, exampreparationonline@gmail.com, tr...\n6     [30/09/17, shubhi.prakash03@gmail.com, try to ...\n7     [30/09/17, nidhisaini05@gmail.com, try to subm...\n8     [30/09/17, chowdhuryshaif@rediffmail.com, try ...\n9     [30/09/17, chowdhuryshaif@rediffmail.com, try ...\n10    [30/09/17, chowdhuryshaif@rediffmail.com, try ...\n11    [30/09/17, chowdhuryshaif@rediffmail.com, try ...\n12    [30/09/17, chowdhuryshaif@rediffmail.com, can ...\n13    [30/09/17, chowdhuryshaif@rediffmail.com, can ...\n14    [30/09/17, chowdhuryshaif@rediffmail.com, can ...\n15    [01/10/17, nidhisaini05@gmail.com, can u tell ...\n16    [01/10/17, nidhisaini05@gmail.com, can u tell ...\n17    [01/10/17, abhishekguragol@gmail.com, can u te...\n18    [01/10/17, exampreparationonline@gmail.com, ca...\n19    [01/10/17, exampreparationonline@gmail.com, ca...\n20    [01/10/17, exampreparationonline@gmail.com, ca...\n21    [01/10/17, sonuyannam@gmail.com, can u tell me...\n22    [1 Oct 2017 19:25:52 -0000, exampreparationonl...\n23    [02/10/17, exampreparationonline@gmail.com, ca...\n24    [02/10/17, chowdhuryshaif@rediffmail.com, can ...\n25    [02/10/17, chowdhuryshaif@rediffmail.com, can ...\n26    [02/10/17, chowdhuryshaif@rediffmail.com, can ...\n27    [02/10/17, chowdhuryshaif@rediffmail.com, can ...\n28    [02/10/17, chowdhuryshaif@rediffmail.com, can ...\n29    [02/10/17, chowdhuryshaif@rediffmail.com, can ...\n30    [02/10/17, chowdhuryshaif@rediffmail.com, can ...\n31    [02/10/17, chowdhuryshaif@rediffmail.com, can ...\n32    [02/10/17, chowdhuryshaif@rediffmail.com, can ...\n33    [02/10/17, nidhisaini05@gmail.com, can u tell ...\n34    [02/10/17, exampreparationonline@gmail.com, wh...\n35    [02/10/17, chowdhuryshaif@rediffmail.com, when...\n36    [03/10/17, exampreparationonline@gmail.com, wh...\n37    [03/10/17, sachinsn231@gmail.com, when is the ...\n38    [03/10/17, exampreparationonline@gmail.com, wh...\n39    [03/10/17, sachinsn231@gmail.com, when is the ...\n40    [03/10/17, sachinsn231@gmail.com, when is the ...\n41    [03/10/17, sachinsn231@gmail.com, when is the ...\n42    [03/10/17, limithakeerthi@gmail.com, when is t...\n43    [03/10/17, ramthakkar07@gmail.com, when is the...\n44    [03/10/17, pavithramurugan22@gmail.com, when i...\n45    [04/10/17, saha.swapankumar1@gmail.com, when i...\nName: Date$to $raw, dtype: object"
          },
          "metadata": {}
        }
      ]
    },
    {
      "metadata": {
        "trusted": true,
        "_uuid": "b3e4015a2c2695f4aaa6a0a3e0b2bc70f0ea9fe2"
      },
      "cell_type": "code",
      "source": "e[0][1]",
      "execution_count": 8,
      "outputs": [
        {
          "output_type": "execute_result",
          "execution_count": 8,
          "data": {
            "text/plain": "'shubhi.prakash03@gmail.com'"
          },
          "metadata": {}
        }
      ]
    },
    {
      "metadata": {
        "trusted": true,
        "_uuid": "7fa3d6f7a152927622195173b40dac74560d85bb"
      },
      "cell_type": "code",
      "source": "mail = []\nfor i in range(len(e)):\n    l = e[i][1]\n    mail.append(l)\nprint(mail)\n## unique mails \nunique_mails = list(set(mail))\nprint('')\nprint('')\nprint(\"No of Unique mails are\", len(unique_mails))\nprint(unique_mails)",
      "execution_count": 9,
      "outputs": [
        {
          "output_type": "stream",
          "text": "['shubhi.prakash03@gmail.com', 'exampreparationonline@gmail.com', 'exampreparationonline@gmail.com', 'shubhi.prakash03@gmail.com', 'shubhi.prakash03@gmail.com', 'exampreparationonline@gmail.com', 'shubhi.prakash03@gmail.com', 'nidhisaini05@gmail.com', 'chowdhuryshaif@rediffmail.com', 'chowdhuryshaif@rediffmail.com', 'chowdhuryshaif@rediffmail.com', 'chowdhuryshaif@rediffmail.com', 'chowdhuryshaif@rediffmail.com', 'chowdhuryshaif@rediffmail.com', 'chowdhuryshaif@rediffmail.com', 'nidhisaini05@gmail.com', 'nidhisaini05@gmail.com', 'abhishekguragol@gmail.com', 'exampreparationonline@gmail.com', 'exampreparationonline@gmail.com', 'exampreparationonline@gmail.com', 'sonuyannam@gmail.com', 'exampreparationonline@gmail.com', 'exampreparationonline@gmail.com', 'chowdhuryshaif@rediffmail.com', 'chowdhuryshaif@rediffmail.com', 'chowdhuryshaif@rediffmail.com', 'chowdhuryshaif@rediffmail.com', 'chowdhuryshaif@rediffmail.com', 'chowdhuryshaif@rediffmail.com', 'chowdhuryshaif@rediffmail.com', 'chowdhuryshaif@rediffmail.com', 'chowdhuryshaif@rediffmail.com', 'nidhisaini05@gmail.com', 'exampreparationonline@gmail.com', 'chowdhuryshaif@rediffmail.com', 'exampreparationonline@gmail.com', 'sachinsn231@gmail.com', 'exampreparationonline@gmail.com', 'sachinsn231@gmail.com', 'sachinsn231@gmail.com', 'sachinsn231@gmail.com', 'limithakeerthi@gmail.com', 'ramthakkar07@gmail.com', 'pavithramurugan22@gmail.com', 'saha.swapankumar1@gmail.com']\n\n\nNo of Unique mails are 11\n['abhishekguragol@gmail.com', 'sachinsn231@gmail.com', 'shubhi.prakash03@gmail.com', 'pavithramurugan22@gmail.com', 'nidhisaini05@gmail.com', 'ramthakkar07@gmail.com', 'sonuyannam@gmail.com', 'saha.swapankumar1@gmail.com', 'chowdhuryshaif@rediffmail.com', 'exampreparationonline@gmail.com', 'limithakeerthi@gmail.com']\n",
          "name": "stdout"
        }
      ]
    },
    {
      "metadata": {
        "_uuid": "63b4f24aefb7cbc5a10bc22b4a8d5be140b230eb"
      },
      "cell_type": "markdown",
      "source": "# So we get the number of unique mails are 11"
    },
    {
      "metadata": {
        "trusted": true,
        "_uuid": "9c9b70d77d5faae82b36708d84cab4139f95f5a5"
      },
      "cell_type": "code",
      "source": "date = []\nfor i in range(len(e)):\n    l = e[i][0]\n    date.append(l)\nprint(date)\nunique_dates = list(set(date))\nprint('')\nprint('')\nprint('Unique Dates')\nprint(unique_dates)",
      "execution_count": 10,
      "outputs": [
        {
          "output_type": "stream",
          "text": "['30/09/17', '30/09/17', '30/09/17', '30/09/17', '30/09/17', '30/09/17', '30/09/17', '30/09/17', '30/09/17', '30/09/17', '30/09/17', '30/09/17', '30/09/17', '30/09/17', '30/09/17', '01/10/17', '01/10/17', '01/10/17', '01/10/17', '01/10/17', '01/10/17', '01/10/17', '1 Oct 2017 19:25:52 -0000', '02/10/17', '02/10/17', '02/10/17', '02/10/17', '02/10/17', '02/10/17', '02/10/17', '02/10/17', '02/10/17', '02/10/17', '02/10/17', '02/10/17', '02/10/17', '03/10/17', '03/10/17', '03/10/17', '03/10/17', '03/10/17', '03/10/17', '03/10/17', '03/10/17', '03/10/17', '04/10/17']\n\n\nUnique Dates\n['03/10/17', '1 Oct 2017 19:25:52 -0000', '04/10/17', '02/10/17', '30/09/17', '01/10/17']\n",
          "name": "stdout"
        }
      ]
    },
    {
      "metadata": {
        "trusted": true,
        "_uuid": "cfd9be38781542deff02f60de292a2f78678d3ab"
      },
      "cell_type": "code",
      "source": "## dont run this column twice ohter wise you will create a mess for yourself\nf = date\ndel f[22]\nprint(len(f))    ## Demonstrating the important properties of list\nprint(len(date)) ## should be 45",
      "execution_count": 11,
      "outputs": [
        {
          "output_type": "stream",
          "text": "45\n45\n",
          "name": "stdout"
        }
      ]
    },
    {
      "metadata": {
        "trusted": true,
        "_uuid": "98bd392bba07b9d26f31853209ff90ae0c6c1c10"
      },
      "cell_type": "code",
      "source": "## also remove the same entry from the email datyaframe\nemail.drop(email.index[22], inplace = True)\nlen(email)",
      "execution_count": 12,
      "outputs": [
        {
          "output_type": "execute_result",
          "execution_count": 12,
          "data": {
            "text/plain": "45"
          },
          "metadata": {}
        }
      ]
    },
    {
      "metadata": {
        "trusted": true,
        "_uuid": "e9315765d0426131805da9aa02532267c2f54c82"
      },
      "cell_type": "code",
      "source": "from datetime import datetime\nmonth = []\nday = []\nyear = []\nfor i in date:\n    r = datetime.strptime(i, '%d/%m/%y')\n    month.append(r.month)\n    day.append(r.day)\n    year.append(r.year)\nprint(month)\nprint((day))\nprint((year))",
      "execution_count": 13,
      "outputs": [
        {
          "output_type": "stream",
          "text": "[9, 9, 9, 9, 9, 9, 9, 9, 9, 9, 9, 9, 9, 9, 9, 10, 10, 10, 10, 10, 10, 10, 10, 10, 10, 10, 10, 10, 10, 10, 10, 10, 10, 10, 10, 10, 10, 10, 10, 10, 10, 10, 10, 10, 10]\n[30, 30, 30, 30, 30, 30, 30, 30, 30, 30, 30, 30, 30, 30, 30, 1, 1, 1, 1, 1, 1, 1, 2, 2, 2, 2, 2, 2, 2, 2, 2, 2, 2, 2, 2, 3, 3, 3, 3, 3, 3, 3, 3, 3, 4]\n[2017, 2017, 2017, 2017, 2017, 2017, 2017, 2017, 2017, 2017, 2017, 2017, 2017, 2017, 2017, 2017, 2017, 2017, 2017, 2017, 2017, 2017, 2017, 2017, 2017, 2017, 2017, 2017, 2017, 2017, 2017, 2017, 2017, 2017, 2017, 2017, 2017, 2017, 2017, 2017, 2017, 2017, 2017, 2017, 2017]\n",
          "name": "stdout"
        }
      ]
    },
    {
      "metadata": {
        "trusted": true,
        "_uuid": "83d4a26200dba18bfe61e78dfd3a2e0d9c73e711"
      },
      "cell_type": "code",
      "source": "## Just to make a sanity check\nprint(len(month))\nprint(len(day))\nprint(len(year))",
      "execution_count": 14,
      "outputs": [
        {
          "output_type": "stream",
          "text": "45\n45\n45\n",
          "name": "stdout"
        }
      ]
    },
    {
      "metadata": {
        "trusted": true,
        "_uuid": "2b32b9a380d46a6d262eb77a6710e6ea0b6825aa"
      },
      "cell_type": "code",
      "source": "## These are just experiment codes, you can avoid them\n'''## get rid of the date which of abnormal form \n## use pd.to_datetime()\nemail['date'] = pd.to_datetime(date, infer_datetime_format = False)\nemail['day'] = email['date'].apply(lambda x : x.day)\nemail['month'] = email['date'].apply(lambda x : x.month)\nemail['year'] = email['date'].apply(lambda x : x.year)''' \n## Gets the same result as the date util parser, didnot understand why it happpens so.",
      "execution_count": 15,
      "outputs": [
        {
          "output_type": "execute_result",
          "execution_count": 15,
          "data": {
            "text/plain": "\"## get rid of the date which of abnormal form \\n## use pd.to_datetime()\\nemail['date'] = pd.to_datetime(date, infer_datetime_format = False)\\nemail['day'] = email['date'].apply(lambda x : x.day)\\nemail['month'] = email['date'].apply(lambda x : x.month)\\nemail['year'] = email['date'].apply(lambda x : x.year)\""
          },
          "metadata": {}
        }
      ]
    },
    {
      "metadata": {
        "trusted": true,
        "_uuid": "29ebe157bcdd1f223391ddca45728fa1c87af729"
      },
      "cell_type": "code",
      "source": "## THese are just experiment codes you can just avoid them\n## now change the dates into the right format\n'''from dateutil import parser\nyear = []\nmonth = []\nday = []\nfor i in date:\n    dt = parser.parse(i)   ## computationally expensive way \n    year.append(dt.year)\n    month.append(dt.month)\n    day.append(dt.day)\n#print(year)    ## since year is same  for all values, we don't need to care of it.\nprint(month)\nprint(day) # it screws the encoding of day and month very badly.'''",
      "execution_count": 16,
      "outputs": [
        {
          "output_type": "execute_result",
          "execution_count": 16,
          "data": {
            "text/plain": "\"from dateutil import parser\\nyear = []\\nmonth = []\\nday = []\\nfor i in date:\\n    dt = parser.parse(i)   ## computationally expensive way \\n    year.append(dt.year)\\n    month.append(dt.month)\\n    day.append(dt.day)\\n#print(year)    ## since year is same  for all values, we don't need to care of it.\\nprint(month)\\nprint(day) # it screws the encoding of day and month very badly.\""
          },
          "metadata": {}
        }
      ]
    },
    {
      "metadata": {
        "trusted": true,
        "_uuid": "9ad26c6d35bb16bf7608ae31a614a9153077d90e"
      },
      "cell_type": "code",
      "source": "## add the date column into the email dataframe\nemail['date'] = date\nemail",
      "execution_count": 17,
      "outputs": [
        {
          "output_type": "execute_result",
          "execution_count": 17,
          "data": {
            "text/plain": "                                         Date$to $raw      date\n0   30/09/17$shubhi.prakash03@gmail.com$will be do...  30/09/17\n1   30/09/17$exampreparationonline@gmail.com$will ...  30/09/17\n2   30/09/17$exampreparationonline@gmail.com$will ...  30/09/17\n3   30/09/17$shubhi.prakash03@gmail.com$will be do...  30/09/17\n4   30/09/17$shubhi.prakash03@gmail.com$will be do...  30/09/17\n5   30/09/17$exampreparationonline@gmail.com$try t...  30/09/17\n6   30/09/17$shubhi.prakash03@gmail.com$try to sub...  30/09/17\n7   30/09/17$nidhisaini05@gmail.com$try to submit ...  30/09/17\n8   30/09/17$chowdhuryshaif@rediffmail.com$try to ...  30/09/17\n9   30/09/17$chowdhuryshaif@rediffmail.com$try to ...  30/09/17\n10  30/09/17$chowdhuryshaif@rediffmail.com$try to ...  30/09/17\n11  30/09/17$chowdhuryshaif@rediffmail.com$try to ...  30/09/17\n12  30/09/17$chowdhuryshaif@rediffmail.com$can u t...  30/09/17\n13  30/09/17$chowdhuryshaif@rediffmail.com$can u t...  30/09/17\n14  30/09/17$chowdhuryshaif@rediffmail.com$can u t...  30/09/17\n15  01/10/17$nidhisaini05@gmail.com$can u tell me ...  01/10/17\n16  01/10/17$nidhisaini05@gmail.com$can u tell me ...  01/10/17\n17  01/10/17$abhishekguragol@gmail.com$can u tell ...  01/10/17\n18  01/10/17$exampreparationonline@gmail.com$can u...  01/10/17\n19  01/10/17$exampreparationonline@gmail.com$can u...  01/10/17\n20  01/10/17$exampreparationonline@gmail.com$can u...  01/10/17\n21  01/10/17$sonuyannam@gmail.com$can u tell me th...  01/10/17\n23  02/10/17$exampreparationonline@gmail.com$can u...  02/10/17\n24  02/10/17$chowdhuryshaif@rediffmail.com$can u t...  02/10/17\n25  02/10/17$chowdhuryshaif@rediffmail.com$can u t...  02/10/17\n26  02/10/17$chowdhuryshaif@rediffmail.com$can u t...  02/10/17\n27  02/10/17$chowdhuryshaif@rediffmail.com$can u t...  02/10/17\n28  02/10/17$chowdhuryshaif@rediffmail.com$can u t...  02/10/17\n29  02/10/17$chowdhuryshaif@rediffmail.com$can u t...  02/10/17\n30  02/10/17$chowdhuryshaif@rediffmail.com$can u t...  02/10/17\n31  02/10/17$chowdhuryshaif@rediffmail.com$can u t...  02/10/17\n32  02/10/17$chowdhuryshaif@rediffmail.com$can u t...  02/10/17\n33  02/10/17$nidhisaini05@gmail.com$can u tell me ...  02/10/17\n34  02/10/17$exampreparationonline@gmail.com$when ...  02/10/17\n35  02/10/17$chowdhuryshaif@rediffmail.com$when is...  02/10/17\n36  03/10/17$exampreparationonline@gmail.com$when ...  03/10/17\n37  03/10/17$sachinsn231@gmail.com$when is the dea...  03/10/17\n38  03/10/17$exampreparationonline@gmail.com$when ...  03/10/17\n39  03/10/17$sachinsn231@gmail.com$when is the dea...  03/10/17\n40  03/10/17$sachinsn231@gmail.com$when is the dea...  03/10/17\n41  03/10/17$sachinsn231@gmail.com$when is the dea...  03/10/17\n42  03/10/17$limithakeerthi@gmail.com$when is the ...  03/10/17\n43  03/10/17$ramthakkar07@gmail.com$when is the de...  03/10/17\n44  03/10/17$pavithramurugan22@gmail.com$when is t...  03/10/17\n45  04/10/17$saha.swapankumar1@gmail.com$when is t...  04/10/17",
            "text/html": "<div>\n<style scoped>\n    .dataframe tbody tr th:only-of-type {\n        vertical-align: middle;\n    }\n\n    .dataframe tbody tr th {\n        vertical-align: top;\n    }\n\n    .dataframe thead th {\n        text-align: right;\n    }\n</style>\n<table border=\"1\" class=\"dataframe\">\n  <thead>\n    <tr style=\"text-align: right;\">\n      <th></th>\n      <th>Date$to $raw</th>\n      <th>date</th>\n    </tr>\n  </thead>\n  <tbody>\n    <tr>\n      <th>0</th>\n      <td>30/09/17$shubhi.prakash03@gmail.com$will be do...</td>\n      <td>30/09/17</td>\n    </tr>\n    <tr>\n      <th>1</th>\n      <td>30/09/17$exampreparationonline@gmail.com$will ...</td>\n      <td>30/09/17</td>\n    </tr>\n    <tr>\n      <th>2</th>\n      <td>30/09/17$exampreparationonline@gmail.com$will ...</td>\n      <td>30/09/17</td>\n    </tr>\n    <tr>\n      <th>3</th>\n      <td>30/09/17$shubhi.prakash03@gmail.com$will be do...</td>\n      <td>30/09/17</td>\n    </tr>\n    <tr>\n      <th>4</th>\n      <td>30/09/17$shubhi.prakash03@gmail.com$will be do...</td>\n      <td>30/09/17</td>\n    </tr>\n    <tr>\n      <th>5</th>\n      <td>30/09/17$exampreparationonline@gmail.com$try t...</td>\n      <td>30/09/17</td>\n    </tr>\n    <tr>\n      <th>6</th>\n      <td>30/09/17$shubhi.prakash03@gmail.com$try to sub...</td>\n      <td>30/09/17</td>\n    </tr>\n    <tr>\n      <th>7</th>\n      <td>30/09/17$nidhisaini05@gmail.com$try to submit ...</td>\n      <td>30/09/17</td>\n    </tr>\n    <tr>\n      <th>8</th>\n      <td>30/09/17$chowdhuryshaif@rediffmail.com$try to ...</td>\n      <td>30/09/17</td>\n    </tr>\n    <tr>\n      <th>9</th>\n      <td>30/09/17$chowdhuryshaif@rediffmail.com$try to ...</td>\n      <td>30/09/17</td>\n    </tr>\n    <tr>\n      <th>10</th>\n      <td>30/09/17$chowdhuryshaif@rediffmail.com$try to ...</td>\n      <td>30/09/17</td>\n    </tr>\n    <tr>\n      <th>11</th>\n      <td>30/09/17$chowdhuryshaif@rediffmail.com$try to ...</td>\n      <td>30/09/17</td>\n    </tr>\n    <tr>\n      <th>12</th>\n      <td>30/09/17$chowdhuryshaif@rediffmail.com$can u t...</td>\n      <td>30/09/17</td>\n    </tr>\n    <tr>\n      <th>13</th>\n      <td>30/09/17$chowdhuryshaif@rediffmail.com$can u t...</td>\n      <td>30/09/17</td>\n    </tr>\n    <tr>\n      <th>14</th>\n      <td>30/09/17$chowdhuryshaif@rediffmail.com$can u t...</td>\n      <td>30/09/17</td>\n    </tr>\n    <tr>\n      <th>15</th>\n      <td>01/10/17$nidhisaini05@gmail.com$can u tell me ...</td>\n      <td>01/10/17</td>\n    </tr>\n    <tr>\n      <th>16</th>\n      <td>01/10/17$nidhisaini05@gmail.com$can u tell me ...</td>\n      <td>01/10/17</td>\n    </tr>\n    <tr>\n      <th>17</th>\n      <td>01/10/17$abhishekguragol@gmail.com$can u tell ...</td>\n      <td>01/10/17</td>\n    </tr>\n    <tr>\n      <th>18</th>\n      <td>01/10/17$exampreparationonline@gmail.com$can u...</td>\n      <td>01/10/17</td>\n    </tr>\n    <tr>\n      <th>19</th>\n      <td>01/10/17$exampreparationonline@gmail.com$can u...</td>\n      <td>01/10/17</td>\n    </tr>\n    <tr>\n      <th>20</th>\n      <td>01/10/17$exampreparationonline@gmail.com$can u...</td>\n      <td>01/10/17</td>\n    </tr>\n    <tr>\n      <th>21</th>\n      <td>01/10/17$sonuyannam@gmail.com$can u tell me th...</td>\n      <td>01/10/17</td>\n    </tr>\n    <tr>\n      <th>23</th>\n      <td>02/10/17$exampreparationonline@gmail.com$can u...</td>\n      <td>02/10/17</td>\n    </tr>\n    <tr>\n      <th>24</th>\n      <td>02/10/17$chowdhuryshaif@rediffmail.com$can u t...</td>\n      <td>02/10/17</td>\n    </tr>\n    <tr>\n      <th>25</th>\n      <td>02/10/17$chowdhuryshaif@rediffmail.com$can u t...</td>\n      <td>02/10/17</td>\n    </tr>\n    <tr>\n      <th>26</th>\n      <td>02/10/17$chowdhuryshaif@rediffmail.com$can u t...</td>\n      <td>02/10/17</td>\n    </tr>\n    <tr>\n      <th>27</th>\n      <td>02/10/17$chowdhuryshaif@rediffmail.com$can u t...</td>\n      <td>02/10/17</td>\n    </tr>\n    <tr>\n      <th>28</th>\n      <td>02/10/17$chowdhuryshaif@rediffmail.com$can u t...</td>\n      <td>02/10/17</td>\n    </tr>\n    <tr>\n      <th>29</th>\n      <td>02/10/17$chowdhuryshaif@rediffmail.com$can u t...</td>\n      <td>02/10/17</td>\n    </tr>\n    <tr>\n      <th>30</th>\n      <td>02/10/17$chowdhuryshaif@rediffmail.com$can u t...</td>\n      <td>02/10/17</td>\n    </tr>\n    <tr>\n      <th>31</th>\n      <td>02/10/17$chowdhuryshaif@rediffmail.com$can u t...</td>\n      <td>02/10/17</td>\n    </tr>\n    <tr>\n      <th>32</th>\n      <td>02/10/17$chowdhuryshaif@rediffmail.com$can u t...</td>\n      <td>02/10/17</td>\n    </tr>\n    <tr>\n      <th>33</th>\n      <td>02/10/17$nidhisaini05@gmail.com$can u tell me ...</td>\n      <td>02/10/17</td>\n    </tr>\n    <tr>\n      <th>34</th>\n      <td>02/10/17$exampreparationonline@gmail.com$when ...</td>\n      <td>02/10/17</td>\n    </tr>\n    <tr>\n      <th>35</th>\n      <td>02/10/17$chowdhuryshaif@rediffmail.com$when is...</td>\n      <td>02/10/17</td>\n    </tr>\n    <tr>\n      <th>36</th>\n      <td>03/10/17$exampreparationonline@gmail.com$when ...</td>\n      <td>03/10/17</td>\n    </tr>\n    <tr>\n      <th>37</th>\n      <td>03/10/17$sachinsn231@gmail.com$when is the dea...</td>\n      <td>03/10/17</td>\n    </tr>\n    <tr>\n      <th>38</th>\n      <td>03/10/17$exampreparationonline@gmail.com$when ...</td>\n      <td>03/10/17</td>\n    </tr>\n    <tr>\n      <th>39</th>\n      <td>03/10/17$sachinsn231@gmail.com$when is the dea...</td>\n      <td>03/10/17</td>\n    </tr>\n    <tr>\n      <th>40</th>\n      <td>03/10/17$sachinsn231@gmail.com$when is the dea...</td>\n      <td>03/10/17</td>\n    </tr>\n    <tr>\n      <th>41</th>\n      <td>03/10/17$sachinsn231@gmail.com$when is the dea...</td>\n      <td>03/10/17</td>\n    </tr>\n    <tr>\n      <th>42</th>\n      <td>03/10/17$limithakeerthi@gmail.com$when is the ...</td>\n      <td>03/10/17</td>\n    </tr>\n    <tr>\n      <th>43</th>\n      <td>03/10/17$ramthakkar07@gmail.com$when is the de...</td>\n      <td>03/10/17</td>\n    </tr>\n    <tr>\n      <th>44</th>\n      <td>03/10/17$pavithramurugan22@gmail.com$when is t...</td>\n      <td>03/10/17</td>\n    </tr>\n    <tr>\n      <th>45</th>\n      <td>04/10/17$saha.swapankumar1@gmail.com$when is t...</td>\n      <td>04/10/17</td>\n    </tr>\n  </tbody>\n</table>\n</div>"
          },
          "metadata": {}
        }
      ]
    },
    {
      "metadata": {
        "trusted": true,
        "_uuid": "b287816369b23a50dc20cd96e2ddeb9a589a604c"
      },
      "cell_type": "code",
      "source": "## append the year month day in the email dataframe\nemail['year'] = year\nemail['month'] = month\nemail['day'] = day\nemail.head()",
      "execution_count": 18,
      "outputs": [
        {
          "output_type": "execute_result",
          "execution_count": 18,
          "data": {
            "text/plain": "                                        Date$to $raw      date ...   month  day\n0  30/09/17$shubhi.prakash03@gmail.com$will be do...  30/09/17 ...       9   30\n1  30/09/17$exampreparationonline@gmail.com$will ...  30/09/17 ...       9   30\n2  30/09/17$exampreparationonline@gmail.com$will ...  30/09/17 ...       9   30\n3  30/09/17$shubhi.prakash03@gmail.com$will be do...  30/09/17 ...       9   30\n4  30/09/17$shubhi.prakash03@gmail.com$will be do...  30/09/17 ...       9   30\n\n[5 rows x 5 columns]",
            "text/html": "<div>\n<style scoped>\n    .dataframe tbody tr th:only-of-type {\n        vertical-align: middle;\n    }\n\n    .dataframe tbody tr th {\n        vertical-align: top;\n    }\n\n    .dataframe thead th {\n        text-align: right;\n    }\n</style>\n<table border=\"1\" class=\"dataframe\">\n  <thead>\n    <tr style=\"text-align: right;\">\n      <th></th>\n      <th>Date$to $raw</th>\n      <th>date</th>\n      <th>year</th>\n      <th>month</th>\n      <th>day</th>\n    </tr>\n  </thead>\n  <tbody>\n    <tr>\n      <th>0</th>\n      <td>30/09/17$shubhi.prakash03@gmail.com$will be do...</td>\n      <td>30/09/17</td>\n      <td>2017</td>\n      <td>9</td>\n      <td>30</td>\n    </tr>\n    <tr>\n      <th>1</th>\n      <td>30/09/17$exampreparationonline@gmail.com$will ...</td>\n      <td>30/09/17</td>\n      <td>2017</td>\n      <td>9</td>\n      <td>30</td>\n    </tr>\n    <tr>\n      <th>2</th>\n      <td>30/09/17$exampreparationonline@gmail.com$will ...</td>\n      <td>30/09/17</td>\n      <td>2017</td>\n      <td>9</td>\n      <td>30</td>\n    </tr>\n    <tr>\n      <th>3</th>\n      <td>30/09/17$shubhi.prakash03@gmail.com$will be do...</td>\n      <td>30/09/17</td>\n      <td>2017</td>\n      <td>9</td>\n      <td>30</td>\n    </tr>\n    <tr>\n      <th>4</th>\n      <td>30/09/17$shubhi.prakash03@gmail.com$will be do...</td>\n      <td>30/09/17</td>\n      <td>2017</td>\n      <td>9</td>\n      <td>30</td>\n    </tr>\n  </tbody>\n</table>\n</div>"
          },
          "metadata": {}
        }
      ]
    },
    {
      "metadata": {
        "trusted": true,
        "_uuid": "13be6c677c029d5068da33bf7655b95a4bf70994"
      },
      "cell_type": "code",
      "source": "## sort them via month and day\nemails = email.sort_index(by = ['year', 'month', 'day'], ascending = [True, True, True])\nemails",
      "execution_count": 19,
      "outputs": [
        {
          "output_type": "stream",
          "text": "/opt/conda/lib/python3.6/site-packages/ipykernel_launcher.py:2: FutureWarning: by argument to sort_index is deprecated, please use .sort_values(by=...)\n  \n",
          "name": "stderr"
        },
        {
          "output_type": "execute_result",
          "execution_count": 19,
          "data": {
            "text/plain": "                                         Date$to $raw      date ...   month  day\n0   30/09/17$shubhi.prakash03@gmail.com$will be do...  30/09/17 ...       9   30\n1   30/09/17$exampreparationonline@gmail.com$will ...  30/09/17 ...       9   30\n2   30/09/17$exampreparationonline@gmail.com$will ...  30/09/17 ...       9   30\n3   30/09/17$shubhi.prakash03@gmail.com$will be do...  30/09/17 ...       9   30\n4   30/09/17$shubhi.prakash03@gmail.com$will be do...  30/09/17 ...       9   30\n5   30/09/17$exampreparationonline@gmail.com$try t...  30/09/17 ...       9   30\n6   30/09/17$shubhi.prakash03@gmail.com$try to sub...  30/09/17 ...       9   30\n7   30/09/17$nidhisaini05@gmail.com$try to submit ...  30/09/17 ...       9   30\n8   30/09/17$chowdhuryshaif@rediffmail.com$try to ...  30/09/17 ...       9   30\n9   30/09/17$chowdhuryshaif@rediffmail.com$try to ...  30/09/17 ...       9   30\n10  30/09/17$chowdhuryshaif@rediffmail.com$try to ...  30/09/17 ...       9   30\n11  30/09/17$chowdhuryshaif@rediffmail.com$try to ...  30/09/17 ...       9   30\n12  30/09/17$chowdhuryshaif@rediffmail.com$can u t...  30/09/17 ...       9   30\n13  30/09/17$chowdhuryshaif@rediffmail.com$can u t...  30/09/17 ...       9   30\n14  30/09/17$chowdhuryshaif@rediffmail.com$can u t...  30/09/17 ...       9   30\n15  01/10/17$nidhisaini05@gmail.com$can u tell me ...  01/10/17 ...      10    1\n16  01/10/17$nidhisaini05@gmail.com$can u tell me ...  01/10/17 ...      10    1\n17  01/10/17$abhishekguragol@gmail.com$can u tell ...  01/10/17 ...      10    1\n18  01/10/17$exampreparationonline@gmail.com$can u...  01/10/17 ...      10    1\n19  01/10/17$exampreparationonline@gmail.com$can u...  01/10/17 ...      10    1\n20  01/10/17$exampreparationonline@gmail.com$can u...  01/10/17 ...      10    1\n21  01/10/17$sonuyannam@gmail.com$can u tell me th...  01/10/17 ...      10    1\n23  02/10/17$exampreparationonline@gmail.com$can u...  02/10/17 ...      10    2\n24  02/10/17$chowdhuryshaif@rediffmail.com$can u t...  02/10/17 ...      10    2\n25  02/10/17$chowdhuryshaif@rediffmail.com$can u t...  02/10/17 ...      10    2\n26  02/10/17$chowdhuryshaif@rediffmail.com$can u t...  02/10/17 ...      10    2\n27  02/10/17$chowdhuryshaif@rediffmail.com$can u t...  02/10/17 ...      10    2\n28  02/10/17$chowdhuryshaif@rediffmail.com$can u t...  02/10/17 ...      10    2\n29  02/10/17$chowdhuryshaif@rediffmail.com$can u t...  02/10/17 ...      10    2\n30  02/10/17$chowdhuryshaif@rediffmail.com$can u t...  02/10/17 ...      10    2\n31  02/10/17$chowdhuryshaif@rediffmail.com$can u t...  02/10/17 ...      10    2\n32  02/10/17$chowdhuryshaif@rediffmail.com$can u t...  02/10/17 ...      10    2\n33  02/10/17$nidhisaini05@gmail.com$can u tell me ...  02/10/17 ...      10    2\n34  02/10/17$exampreparationonline@gmail.com$when ...  02/10/17 ...      10    2\n35  02/10/17$chowdhuryshaif@rediffmail.com$when is...  02/10/17 ...      10    2\n36  03/10/17$exampreparationonline@gmail.com$when ...  03/10/17 ...      10    3\n37  03/10/17$sachinsn231@gmail.com$when is the dea...  03/10/17 ...      10    3\n38  03/10/17$exampreparationonline@gmail.com$when ...  03/10/17 ...      10    3\n39  03/10/17$sachinsn231@gmail.com$when is the dea...  03/10/17 ...      10    3\n40  03/10/17$sachinsn231@gmail.com$when is the dea...  03/10/17 ...      10    3\n41  03/10/17$sachinsn231@gmail.com$when is the dea...  03/10/17 ...      10    3\n42  03/10/17$limithakeerthi@gmail.com$when is the ...  03/10/17 ...      10    3\n43  03/10/17$ramthakkar07@gmail.com$when is the de...  03/10/17 ...      10    3\n44  03/10/17$pavithramurugan22@gmail.com$when is t...  03/10/17 ...      10    3\n45  04/10/17$saha.swapankumar1@gmail.com$when is t...  04/10/17 ...      10    4\n\n[45 rows x 5 columns]",
            "text/html": "<div>\n<style scoped>\n    .dataframe tbody tr th:only-of-type {\n        vertical-align: middle;\n    }\n\n    .dataframe tbody tr th {\n        vertical-align: top;\n    }\n\n    .dataframe thead th {\n        text-align: right;\n    }\n</style>\n<table border=\"1\" class=\"dataframe\">\n  <thead>\n    <tr style=\"text-align: right;\">\n      <th></th>\n      <th>Date$to $raw</th>\n      <th>date</th>\n      <th>year</th>\n      <th>month</th>\n      <th>day</th>\n    </tr>\n  </thead>\n  <tbody>\n    <tr>\n      <th>0</th>\n      <td>30/09/17$shubhi.prakash03@gmail.com$will be do...</td>\n      <td>30/09/17</td>\n      <td>2017</td>\n      <td>9</td>\n      <td>30</td>\n    </tr>\n    <tr>\n      <th>1</th>\n      <td>30/09/17$exampreparationonline@gmail.com$will ...</td>\n      <td>30/09/17</td>\n      <td>2017</td>\n      <td>9</td>\n      <td>30</td>\n    </tr>\n    <tr>\n      <th>2</th>\n      <td>30/09/17$exampreparationonline@gmail.com$will ...</td>\n      <td>30/09/17</td>\n      <td>2017</td>\n      <td>9</td>\n      <td>30</td>\n    </tr>\n    <tr>\n      <th>3</th>\n      <td>30/09/17$shubhi.prakash03@gmail.com$will be do...</td>\n      <td>30/09/17</td>\n      <td>2017</td>\n      <td>9</td>\n      <td>30</td>\n    </tr>\n    <tr>\n      <th>4</th>\n      <td>30/09/17$shubhi.prakash03@gmail.com$will be do...</td>\n      <td>30/09/17</td>\n      <td>2017</td>\n      <td>9</td>\n      <td>30</td>\n    </tr>\n    <tr>\n      <th>5</th>\n      <td>30/09/17$exampreparationonline@gmail.com$try t...</td>\n      <td>30/09/17</td>\n      <td>2017</td>\n      <td>9</td>\n      <td>30</td>\n    </tr>\n    <tr>\n      <th>6</th>\n      <td>30/09/17$shubhi.prakash03@gmail.com$try to sub...</td>\n      <td>30/09/17</td>\n      <td>2017</td>\n      <td>9</td>\n      <td>30</td>\n    </tr>\n    <tr>\n      <th>7</th>\n      <td>30/09/17$nidhisaini05@gmail.com$try to submit ...</td>\n      <td>30/09/17</td>\n      <td>2017</td>\n      <td>9</td>\n      <td>30</td>\n    </tr>\n    <tr>\n      <th>8</th>\n      <td>30/09/17$chowdhuryshaif@rediffmail.com$try to ...</td>\n      <td>30/09/17</td>\n      <td>2017</td>\n      <td>9</td>\n      <td>30</td>\n    </tr>\n    <tr>\n      <th>9</th>\n      <td>30/09/17$chowdhuryshaif@rediffmail.com$try to ...</td>\n      <td>30/09/17</td>\n      <td>2017</td>\n      <td>9</td>\n      <td>30</td>\n    </tr>\n    <tr>\n      <th>10</th>\n      <td>30/09/17$chowdhuryshaif@rediffmail.com$try to ...</td>\n      <td>30/09/17</td>\n      <td>2017</td>\n      <td>9</td>\n      <td>30</td>\n    </tr>\n    <tr>\n      <th>11</th>\n      <td>30/09/17$chowdhuryshaif@rediffmail.com$try to ...</td>\n      <td>30/09/17</td>\n      <td>2017</td>\n      <td>9</td>\n      <td>30</td>\n    </tr>\n    <tr>\n      <th>12</th>\n      <td>30/09/17$chowdhuryshaif@rediffmail.com$can u t...</td>\n      <td>30/09/17</td>\n      <td>2017</td>\n      <td>9</td>\n      <td>30</td>\n    </tr>\n    <tr>\n      <th>13</th>\n      <td>30/09/17$chowdhuryshaif@rediffmail.com$can u t...</td>\n      <td>30/09/17</td>\n      <td>2017</td>\n      <td>9</td>\n      <td>30</td>\n    </tr>\n    <tr>\n      <th>14</th>\n      <td>30/09/17$chowdhuryshaif@rediffmail.com$can u t...</td>\n      <td>30/09/17</td>\n      <td>2017</td>\n      <td>9</td>\n      <td>30</td>\n    </tr>\n    <tr>\n      <th>15</th>\n      <td>01/10/17$nidhisaini05@gmail.com$can u tell me ...</td>\n      <td>01/10/17</td>\n      <td>2017</td>\n      <td>10</td>\n      <td>1</td>\n    </tr>\n    <tr>\n      <th>16</th>\n      <td>01/10/17$nidhisaini05@gmail.com$can u tell me ...</td>\n      <td>01/10/17</td>\n      <td>2017</td>\n      <td>10</td>\n      <td>1</td>\n    </tr>\n    <tr>\n      <th>17</th>\n      <td>01/10/17$abhishekguragol@gmail.com$can u tell ...</td>\n      <td>01/10/17</td>\n      <td>2017</td>\n      <td>10</td>\n      <td>1</td>\n    </tr>\n    <tr>\n      <th>18</th>\n      <td>01/10/17$exampreparationonline@gmail.com$can u...</td>\n      <td>01/10/17</td>\n      <td>2017</td>\n      <td>10</td>\n      <td>1</td>\n    </tr>\n    <tr>\n      <th>19</th>\n      <td>01/10/17$exampreparationonline@gmail.com$can u...</td>\n      <td>01/10/17</td>\n      <td>2017</td>\n      <td>10</td>\n      <td>1</td>\n    </tr>\n    <tr>\n      <th>20</th>\n      <td>01/10/17$exampreparationonline@gmail.com$can u...</td>\n      <td>01/10/17</td>\n      <td>2017</td>\n      <td>10</td>\n      <td>1</td>\n    </tr>\n    <tr>\n      <th>21</th>\n      <td>01/10/17$sonuyannam@gmail.com$can u tell me th...</td>\n      <td>01/10/17</td>\n      <td>2017</td>\n      <td>10</td>\n      <td>1</td>\n    </tr>\n    <tr>\n      <th>23</th>\n      <td>02/10/17$exampreparationonline@gmail.com$can u...</td>\n      <td>02/10/17</td>\n      <td>2017</td>\n      <td>10</td>\n      <td>2</td>\n    </tr>\n    <tr>\n      <th>24</th>\n      <td>02/10/17$chowdhuryshaif@rediffmail.com$can u t...</td>\n      <td>02/10/17</td>\n      <td>2017</td>\n      <td>10</td>\n      <td>2</td>\n    </tr>\n    <tr>\n      <th>25</th>\n      <td>02/10/17$chowdhuryshaif@rediffmail.com$can u t...</td>\n      <td>02/10/17</td>\n      <td>2017</td>\n      <td>10</td>\n      <td>2</td>\n    </tr>\n    <tr>\n      <th>26</th>\n      <td>02/10/17$chowdhuryshaif@rediffmail.com$can u t...</td>\n      <td>02/10/17</td>\n      <td>2017</td>\n      <td>10</td>\n      <td>2</td>\n    </tr>\n    <tr>\n      <th>27</th>\n      <td>02/10/17$chowdhuryshaif@rediffmail.com$can u t...</td>\n      <td>02/10/17</td>\n      <td>2017</td>\n      <td>10</td>\n      <td>2</td>\n    </tr>\n    <tr>\n      <th>28</th>\n      <td>02/10/17$chowdhuryshaif@rediffmail.com$can u t...</td>\n      <td>02/10/17</td>\n      <td>2017</td>\n      <td>10</td>\n      <td>2</td>\n    </tr>\n    <tr>\n      <th>29</th>\n      <td>02/10/17$chowdhuryshaif@rediffmail.com$can u t...</td>\n      <td>02/10/17</td>\n      <td>2017</td>\n      <td>10</td>\n      <td>2</td>\n    </tr>\n    <tr>\n      <th>30</th>\n      <td>02/10/17$chowdhuryshaif@rediffmail.com$can u t...</td>\n      <td>02/10/17</td>\n      <td>2017</td>\n      <td>10</td>\n      <td>2</td>\n    </tr>\n    <tr>\n      <th>31</th>\n      <td>02/10/17$chowdhuryshaif@rediffmail.com$can u t...</td>\n      <td>02/10/17</td>\n      <td>2017</td>\n      <td>10</td>\n      <td>2</td>\n    </tr>\n    <tr>\n      <th>32</th>\n      <td>02/10/17$chowdhuryshaif@rediffmail.com$can u t...</td>\n      <td>02/10/17</td>\n      <td>2017</td>\n      <td>10</td>\n      <td>2</td>\n    </tr>\n    <tr>\n      <th>33</th>\n      <td>02/10/17$nidhisaini05@gmail.com$can u tell me ...</td>\n      <td>02/10/17</td>\n      <td>2017</td>\n      <td>10</td>\n      <td>2</td>\n    </tr>\n    <tr>\n      <th>34</th>\n      <td>02/10/17$exampreparationonline@gmail.com$when ...</td>\n      <td>02/10/17</td>\n      <td>2017</td>\n      <td>10</td>\n      <td>2</td>\n    </tr>\n    <tr>\n      <th>35</th>\n      <td>02/10/17$chowdhuryshaif@rediffmail.com$when is...</td>\n      <td>02/10/17</td>\n      <td>2017</td>\n      <td>10</td>\n      <td>2</td>\n    </tr>\n    <tr>\n      <th>36</th>\n      <td>03/10/17$exampreparationonline@gmail.com$when ...</td>\n      <td>03/10/17</td>\n      <td>2017</td>\n      <td>10</td>\n      <td>3</td>\n    </tr>\n    <tr>\n      <th>37</th>\n      <td>03/10/17$sachinsn231@gmail.com$when is the dea...</td>\n      <td>03/10/17</td>\n      <td>2017</td>\n      <td>10</td>\n      <td>3</td>\n    </tr>\n    <tr>\n      <th>38</th>\n      <td>03/10/17$exampreparationonline@gmail.com$when ...</td>\n      <td>03/10/17</td>\n      <td>2017</td>\n      <td>10</td>\n      <td>3</td>\n    </tr>\n    <tr>\n      <th>39</th>\n      <td>03/10/17$sachinsn231@gmail.com$when is the dea...</td>\n      <td>03/10/17</td>\n      <td>2017</td>\n      <td>10</td>\n      <td>3</td>\n    </tr>\n    <tr>\n      <th>40</th>\n      <td>03/10/17$sachinsn231@gmail.com$when is the dea...</td>\n      <td>03/10/17</td>\n      <td>2017</td>\n      <td>10</td>\n      <td>3</td>\n    </tr>\n    <tr>\n      <th>41</th>\n      <td>03/10/17$sachinsn231@gmail.com$when is the dea...</td>\n      <td>03/10/17</td>\n      <td>2017</td>\n      <td>10</td>\n      <td>3</td>\n    </tr>\n    <tr>\n      <th>42</th>\n      <td>03/10/17$limithakeerthi@gmail.com$when is the ...</td>\n      <td>03/10/17</td>\n      <td>2017</td>\n      <td>10</td>\n      <td>3</td>\n    </tr>\n    <tr>\n      <th>43</th>\n      <td>03/10/17$ramthakkar07@gmail.com$when is the de...</td>\n      <td>03/10/17</td>\n      <td>2017</td>\n      <td>10</td>\n      <td>3</td>\n    </tr>\n    <tr>\n      <th>44</th>\n      <td>03/10/17$pavithramurugan22@gmail.com$when is t...</td>\n      <td>03/10/17</td>\n      <td>2017</td>\n      <td>10</td>\n      <td>3</td>\n    </tr>\n    <tr>\n      <th>45</th>\n      <td>04/10/17$saha.swapankumar1@gmail.com$when is t...</td>\n      <td>04/10/17</td>\n      <td>2017</td>\n      <td>10</td>\n      <td>4</td>\n    </tr>\n  </tbody>\n</table>\n</div>"
          },
          "metadata": {}
        }
      ]
    },
    {
      "metadata": {
        "trusted": true,
        "_uuid": "4014f49e5d3766f5250af4ed73cd57e8b775c7cc"
      },
      "cell_type": "code",
      "source": "## Store the last date of conversation \nlast_day = email.tail(1)\nlast_day",
      "execution_count": 20,
      "outputs": [
        {
          "output_type": "execute_result",
          "execution_count": 20,
          "data": {
            "text/plain": "                                         Date$to $raw      date ...   month  day\n45  04/10/17$saha.swapankumar1@gmail.com$when is t...  04/10/17 ...      10    4\n\n[1 rows x 5 columns]",
            "text/html": "<div>\n<style scoped>\n    .dataframe tbody tr th:only-of-type {\n        vertical-align: middle;\n    }\n\n    .dataframe tbody tr th {\n        vertical-align: top;\n    }\n\n    .dataframe thead th {\n        text-align: right;\n    }\n</style>\n<table border=\"1\" class=\"dataframe\">\n  <thead>\n    <tr style=\"text-align: right;\">\n      <th></th>\n      <th>Date$to $raw</th>\n      <th>date</th>\n      <th>year</th>\n      <th>month</th>\n      <th>day</th>\n    </tr>\n  </thead>\n  <tbody>\n    <tr>\n      <th>45</th>\n      <td>04/10/17$saha.swapankumar1@gmail.com$when is t...</td>\n      <td>04/10/17</td>\n      <td>2017</td>\n      <td>10</td>\n      <td>4</td>\n    </tr>\n  </tbody>\n</table>\n</div>"
          },
          "metadata": {}
        }
      ]
    },
    {
      "metadata": {
        "_uuid": "4873757e5fd172b42900d2bc41f429aea7b48d90"
      },
      "cell_type": "markdown",
      "source": "# so the last date of conversation is 4/10/2017"
    },
    {
      "metadata": {
        "trusted": true,
        "collapsed": true,
        "_uuid": "a4367a6255ce944c7fb090dbefdde8634f501cf2"
      },
      "cell_type": "code",
      "source": "## Function to determine the days elapsed from the date \ndef get_days(df):\n    days = df['date']\n    unique_days = set(days)\n    days_elapsed = len(unique_days)\n    print('The days elapsed from the date is :' , days_elapsed)",
      "execution_count": 21,
      "outputs": []
    },
    {
      "metadata": {
        "trusted": true,
        "_uuid": "357254bf55f019e659b4772dcd5aafa1e3be4699"
      },
      "cell_type": "code",
      "source": "## get the days, just by selecting the unique dates presrent \nget_days(email)",
      "execution_count": 22,
      "outputs": [
        {
          "output_type": "stream",
          "text": "The days elapsed from the date is : 5\n",
          "name": "stdout"
        }
      ]
    },
    {
      "metadata": {
        "_uuid": "9d96306c82da1574bdad842d626f2eb5f47b5ba9"
      },
      "cell_type": "markdown",
      "source": "# The days elapsed from the date is 5 "
    },
    {
      "metadata": {
        "trusted": true,
        "collapsed": true,
        "_uuid": "93ce8329caaeb521ab79f5c2cc612bdbc143ba25"
      },
      "cell_type": "code",
      "source": "",
      "execution_count": null,
      "outputs": []
    },
    {
      "metadata": {
        "trusted": true,
        "collapsed": true,
        "_uuid": "945c6262b5c48d063c01faabcd1567c56da7e1c5"
      },
      "cell_type": "code",
      "source": "",
      "execution_count": null,
      "outputs": []
    }
  ],
  "metadata": {
    "kernelspec": {
      "display_name": "Python 3",
      "language": "python",
      "name": "python3"
    },
    "language_info": {
      "name": "python",
      "version": "3.6.5",
      "mimetype": "text/x-python",
      "codemirror_mode": {
        "name": "ipython",
        "version": 3
      },
      "pygments_lexer": "ipython3",
      "nbconvert_exporter": "python",
      "file_extension": ".py"
    }
  },
  "nbformat": 4,
  "nbformat_minor": 1
}